{
 "cells": [
  {
   "cell_type": "code",
   "execution_count": 118,
   "id": "fb1edc3f-6f50-4087-a7b4-a86d57e64b30",
   "metadata": {},
   "outputs": [],
   "source": [
    "import pandas as pd\n",
    "import numpy as np"
   ]
  },
  {
   "cell_type": "markdown",
   "id": "ca497ee4-d7ed-4fcf-8df2-b7f0da3e6a58",
   "metadata": {},
   "source": [
    "## Reading files"
   ]
  },
  {
   "cell_type": "code",
   "execution_count": 119,
   "id": "0a389ee7-7fa2-4523-95ea-1f45ae4ac6f8",
   "metadata": {},
   "outputs": [],
   "source": [
    "wh2018 = pd.read_csv('2018_v2.csv')\n",
    "wh2019 = pd.read_csv('2019_v2.csv')"
   ]
  },
  {
   "cell_type": "markdown",
   "id": "72f1cf5f-7cc4-4dfa-9dc8-51105a51d652",
   "metadata": {},
   "source": [
    "Adding extra column to identify year of population"
   ]
  },
  {
   "cell_type": "code",
   "execution_count": 120,
   "id": "ec21e6da-422e-4a8e-8aac-e601e30b89dd",
   "metadata": {},
   "outputs": [],
   "source": [
    "wh2018['year'] = 2018\n",
    "wh2019['year'] = 2019"
   ]
  },
  {
   "cell_type": "markdown",
   "id": "e3fdff02-1732-477b-a78b-f97aea07b013",
   "metadata": {},
   "source": [
    "Union of three files"
   ]
  },
  {
   "cell_type": "code",
   "execution_count": 121,
   "id": "ab6d0ee5-911c-4d6f-8889-058467e7015a",
   "metadata": {},
   "outputs": [],
   "source": [
    "wh = pd.concat([wh2018,wh2019])"
   ]
  },
  {
   "cell_type": "code",
   "execution_count": 122,
   "id": "54d33b78-43e1-4904-92b0-485e8d2abefa",
   "metadata": {},
   "outputs": [
    {
     "data": {
      "text/plain": [
       "Index(['Overall rank', 'Country or region', 'Score', 'GDP per capita',\n",
       "       'Social support', 'Healthy life expectancy',\n",
       "       'Freedom to make life choices', 'Generosity',\n",
       "       'Perceptions of corruption', 'year'],\n",
       "      dtype='object')"
      ]
     },
     "execution_count": 122,
     "metadata": {},
     "output_type": "execute_result"
    }
   ],
   "source": [
    "wh.columns"
   ]
  },
  {
   "cell_type": "markdown",
   "id": "fe6f96ee-b677-442e-b1f7-8d2617200937",
   "metadata": {},
   "source": [
    "## Ejercicios\n",
    "\n",
    "1. Partiendo de Wh, realice un analisis de valores nulos. que porcentaje de valores nulos se encuentran en cada columna por anio. presente el analisis en un dataframe"
   ]
  },
  {
   "cell_type": "markdown",
   "id": "fac6f6e3-8f5a-48bb-9a06-632757c857be",
   "metadata": {},
   "source": [
    "Ejemplo:"
   ]
  },
  {
   "cell_type": "code",
   "execution_count": 123,
   "id": "748a8b4c-85aa-4cff-96a3-61bcf2a8e466",
   "metadata": {},
   "outputs": [
    {
     "data": {
      "text/html": [
       "<div>\n",
       "<style scoped>\n",
       "    .dataframe tbody tr th:only-of-type {\n",
       "        vertical-align: middle;\n",
       "    }\n",
       "\n",
       "    .dataframe tbody tr th {\n",
       "        vertical-align: top;\n",
       "    }\n",
       "\n",
       "    .dataframe thead th {\n",
       "        text-align: right;\n",
       "    }\n",
       "</style>\n",
       "<table border=\"1\" class=\"dataframe\">\n",
       "  <thead>\n",
       "    <tr style=\"text-align: right;\">\n",
       "      <th></th>\n",
       "      <th>year</th>\n",
       "      <th>column</th>\n",
       "      <th>percentage.of.nans</th>\n",
       "    </tr>\n",
       "  </thead>\n",
       "  <tbody>\n",
       "    <tr>\n",
       "      <th>0</th>\n",
       "      <td>2017</td>\n",
       "      <td>Happiness.Rank</td>\n",
       "      <td>0.2</td>\n",
       "    </tr>\n",
       "    <tr>\n",
       "      <th>1</th>\n",
       "      <td>2017</td>\n",
       "      <td>Whisker.low</td>\n",
       "      <td>0.2</td>\n",
       "    </tr>\n",
       "  </tbody>\n",
       "</table>\n",
       "</div>"
      ],
      "text/plain": [
       "   year          column  percentage.of.nans\n",
       "0  2017  Happiness.Rank                 0.2\n",
       "1  2017     Whisker.low                 0.2"
      ]
     },
     "execution_count": 123,
     "metadata": {},
     "output_type": "execute_result"
    }
   ],
   "source": [
    "pd.DataFrame({\n",
    "    \"year\": [2017,2017]\n",
    "    , \"column\" : [\"Happiness.Rank\",\"Whisker.low\"]\n",
    "    , \"percentage.of.nans\" : [0.2,0.2]\n",
    "})"
   ]
  },
  {
   "cell_type": "markdown",
   "id": "ad19d0f9-2980-4411-9166-3760db06212f",
   "metadata": {},
   "source": [
    "### resolucion ejercicio uno"
   ]
  },
  {
   "cell_type": "code",
   "execution_count": 124,
   "id": "7425b8c7",
   "metadata": {},
   "outputs": [],
   "source": [
    "year_group = wh.groupby('year').count()"
   ]
  },
  {
   "cell_type": "code",
   "execution_count": 125,
   "id": "84cd755f",
   "metadata": {},
   "outputs": [],
   "source": [
    "nansdict ={}\n",
    "for year in year_group.index:\n",
    "    nansdict[year] = {}"
   ]
  },
  {
   "cell_type": "code",
   "execution_count": 126,
   "id": "e9bfd961",
   "metadata": {},
   "outputs": [],
   "source": [
    "for year in year_group.index:\n",
    "    for c in wh.columns[0:-1]:\n",
    "        nansdict[year][c] = wh.loc[wh['year'] == year][c].isnull().sum() / year_group[c][year]*100\n"
   ]
  },
  {
   "cell_type": "code",
   "execution_count": 127,
   "id": "a1fab68a",
   "metadata": {},
   "outputs": [],
   "source": [
    "dataframeNullPorcentage = pd.DataFrame(nansdict)"
   ]
  },
  {
   "cell_type": "code",
   "execution_count": 128,
   "id": "dafd9b33",
   "metadata": {},
   "outputs": [
    {
     "data": {
      "text/html": [
       "<div>\n",
       "<style scoped>\n",
       "    .dataframe tbody tr th:only-of-type {\n",
       "        vertical-align: middle;\n",
       "    }\n",
       "\n",
       "    .dataframe tbody tr th {\n",
       "        vertical-align: top;\n",
       "    }\n",
       "\n",
       "    .dataframe thead th {\n",
       "        text-align: right;\n",
       "    }\n",
       "</style>\n",
       "<table border=\"1\" class=\"dataframe\">\n",
       "  <thead>\n",
       "    <tr style=\"text-align: right;\">\n",
       "      <th></th>\n",
       "      <th>2018</th>\n",
       "      <th>2019</th>\n",
       "    </tr>\n",
       "  </thead>\n",
       "  <tbody>\n",
       "    <tr>\n",
       "      <th>Overall rank</th>\n",
       "      <td>0.000000</td>\n",
       "      <td>0.000000</td>\n",
       "    </tr>\n",
       "    <tr>\n",
       "      <th>Country or region</th>\n",
       "      <td>0.000000</td>\n",
       "      <td>0.000000</td>\n",
       "    </tr>\n",
       "    <tr>\n",
       "      <th>Score</th>\n",
       "      <td>3.311258</td>\n",
       "      <td>9.859155</td>\n",
       "    </tr>\n",
       "    <tr>\n",
       "      <th>GDP per capita</th>\n",
       "      <td>6.122449</td>\n",
       "      <td>1.960784</td>\n",
       "    </tr>\n",
       "    <tr>\n",
       "      <th>Social support</th>\n",
       "      <td>10.638298</td>\n",
       "      <td>0.645161</td>\n",
       "    </tr>\n",
       "    <tr>\n",
       "      <th>Healthy life expectancy</th>\n",
       "      <td>8.333333</td>\n",
       "      <td>9.859155</td>\n",
       "    </tr>\n",
       "    <tr>\n",
       "      <th>Freedom to make life choices</th>\n",
       "      <td>8.333333</td>\n",
       "      <td>7.586207</td>\n",
       "    </tr>\n",
       "    <tr>\n",
       "      <th>Generosity</th>\n",
       "      <td>12.230216</td>\n",
       "      <td>2.631579</td>\n",
       "    </tr>\n",
       "    <tr>\n",
       "      <th>Perceptions of corruption</th>\n",
       "      <td>4.697987</td>\n",
       "      <td>4.000000</td>\n",
       "    </tr>\n",
       "  </tbody>\n",
       "</table>\n",
       "</div>"
      ],
      "text/plain": [
       "                                   2018      2019\n",
       "Overall rank                   0.000000  0.000000\n",
       "Country or region              0.000000  0.000000\n",
       "Score                          3.311258  9.859155\n",
       "GDP per capita                 6.122449  1.960784\n",
       "Social support                10.638298  0.645161\n",
       "Healthy life expectancy        8.333333  9.859155\n",
       "Freedom to make life choices   8.333333  7.586207\n",
       "Generosity                    12.230216  2.631579\n",
       "Perceptions of corruption      4.697987  4.000000"
      ]
     },
     "execution_count": 128,
     "metadata": {},
     "output_type": "execute_result"
    }
   ],
   "source": [
    "dataframeNullPorcentage"
   ]
  },
  {
   "cell_type": "markdown",
   "id": "76ceb543-1b4f-4a5f-9584-27259f6f4bb7",
   "metadata": {},
   "source": [
    "2. partiendo de Wh, por año muestre un resumen de todas las columnas.\n",
    "\n",
    "nota: aunque solo tenemos tres años, que pasaria si en nuestro dataframe tenemos 20 años? resuelva su ejercicio lo mas dinamico que se pueda\n",
    "\n",
    "### resolucion ejercicio dos"
   ]
  },
  {
   "cell_type": "code",
   "execution_count": 129,
   "id": "a4498fd8",
   "metadata": {},
   "outputs": [
    {
     "name": "stdout",
     "output_type": "stream",
     "text": [
      "Summary of year 2018\n",
      "\n",
      "       Overall rank       Score  GDP per capita  Social support  \\\n",
      "count    156.000000  151.000000      147.000000      141.000000   \n",
      "mean      78.500000    5.354060        0.892748        1.205915   \n",
      "std       45.177428    1.109532        0.399153        0.306070   \n",
      "min        1.000000    2.905000        0.000000        0.000000   \n",
      "25%       39.750000    4.451500        0.598500        1.047000   \n",
      "50%       78.500000    5.358000        0.940000        1.258000   \n",
      "75%      117.250000    6.154000        1.214500        1.462000   \n",
      "max      156.000000    7.632000        2.096000        1.592000   \n",
      "\n",
      "       Healthy life expectancy  Freedom to make life choices  Generosity  \\\n",
      "count               144.000000                    144.000000  139.000000   \n",
      "mean                  0.597576                      0.456514    0.181360   \n",
      "std                   0.250700                      0.162312    0.099147   \n",
      "min                   0.000000                      0.000000    0.000000   \n",
      "25%                   0.413750                      0.355750    0.115000   \n",
      "50%                   0.651000                      0.487000    0.173000   \n",
      "75%                   0.782000                      0.580000    0.234000   \n",
      "max                   1.030000                      0.724000    0.598000   \n",
      "\n",
      "       Perceptions of corruption    year  \n",
      "count                 149.000000   156.0  \n",
      "mean                    0.112859  2018.0  \n",
      "std                     0.098108     0.0  \n",
      "min                     0.000000  2018.0  \n",
      "25%                     0.050000  2018.0  \n",
      "50%                     0.082000  2018.0  \n",
      "75%                     0.138000  2018.0  \n",
      "max                     0.457000  2018.0  \n",
      "\n",
      "\n",
      "Summary of year 2019\n",
      "\n",
      "       Overall rank       Score  GDP per capita  Social support  \\\n",
      "count    156.000000  142.000000      153.000000      155.000000   \n",
      "mean      78.500000    5.434028        0.900758        1.208265   \n",
      "std       45.177428    1.109031        0.400770        0.300082   \n",
      "min        1.000000    2.853000        0.000000        0.000000   \n",
      "25%       39.750000    4.566000        0.578000        1.055500   \n",
      "50%       78.500000    5.405500        0.960000        1.269000   \n",
      "75%      117.250000    6.196500        1.237000        1.453000   \n",
      "max      156.000000    7.769000        1.684000        1.624000   \n",
      "\n",
      "       Healthy life expectancy  Freedom to make life choices  Generosity  \\\n",
      "count               142.000000                    145.000000  152.000000   \n",
      "mean                  0.722965                      0.395441    0.185092   \n",
      "std                   0.247263                      0.141704    0.094987   \n",
      "min                   0.000000                      0.000000    0.025000   \n",
      "25%                   0.541250                      0.309000    0.108750   \n",
      "50%                   0.785000                      0.418000    0.177000   \n",
      "75%                   0.889250                      0.507000    0.248250   \n",
      "max                   1.141000                      0.631000    0.566000   \n",
      "\n",
      "       Perceptions of corruption    year  \n",
      "count                 150.000000   156.0  \n",
      "mean                    0.109053  2019.0  \n",
      "std                     0.093279     0.0  \n",
      "min                     0.000000  2019.0  \n",
      "25%                     0.047750  2019.0  \n",
      "50%                     0.085000  2019.0  \n",
      "75%                     0.140250  2019.0  \n",
      "max                     0.453000  2019.0  \n",
      "\n",
      "\n"
     ]
    }
   ],
   "source": [
    "for year in wh['year'].unique().tolist():\n",
    "    print(f'Summary of year {year}\\n')\n",
    "    print(wh.loc[wh['year'] == year].describe())\n",
    "    print('\\n')"
   ]
  },
  {
   "cell_type": "markdown",
   "id": "fec3987d-17f1-4553-a9c1-db67800b3cdb",
   "metadata": {},
   "source": [
    "3. partiendo de Wh, remplace los valores NaN de las columnas por su mean, el mean debe de ser calculado por año para ser mas exacto\n",
    "\n",
    "### resolucion ejercicio tres"
   ]
  },
  {
   "cell_type": "code",
   "execution_count": 130,
   "id": "9e3f2027",
   "metadata": {},
   "outputs": [],
   "source": [
    "meanscolumns = wh.groupby('year').mean()"
   ]
  },
  {
   "cell_type": "code",
   "execution_count": 131,
   "id": "6ff78869",
   "metadata": {},
   "outputs": [],
   "source": [
    "arrayearsfilled =[]"
   ]
  },
  {
   "cell_type": "code",
   "execution_count": 132,
   "id": "1806500d",
   "metadata": {},
   "outputs": [],
   "source": [
    "for year in wh['year'].unique().tolist():\n",
    "    wh.loc[wh['year'] == year] = wh.loc[wh['year'] == year].fillna(meanscolumns.loc[year])\t"
   ]
  },
  {
   "cell_type": "code",
   "execution_count": 133,
   "id": "767c0a87",
   "metadata": {},
   "outputs": [
    {
     "data": {
      "text/html": [
       "<div>\n",
       "<style scoped>\n",
       "    .dataframe tbody tr th:only-of-type {\n",
       "        vertical-align: middle;\n",
       "    }\n",
       "\n",
       "    .dataframe tbody tr th {\n",
       "        vertical-align: top;\n",
       "    }\n",
       "\n",
       "    .dataframe thead th {\n",
       "        text-align: right;\n",
       "    }\n",
       "</style>\n",
       "<table border=\"1\" class=\"dataframe\">\n",
       "  <thead>\n",
       "    <tr style=\"text-align: right;\">\n",
       "      <th></th>\n",
       "      <th>Overall rank</th>\n",
       "      <th>Country or region</th>\n",
       "      <th>Score</th>\n",
       "      <th>GDP per capita</th>\n",
       "      <th>Social support</th>\n",
       "      <th>Healthy life expectancy</th>\n",
       "      <th>Freedom to make life choices</th>\n",
       "      <th>Generosity</th>\n",
       "      <th>Perceptions of corruption</th>\n",
       "      <th>year</th>\n",
       "    </tr>\n",
       "  </thead>\n",
       "  <tbody>\n",
       "    <tr>\n",
       "      <th>0</th>\n",
       "      <td>1</td>\n",
       "      <td>Finland</td>\n",
       "      <td>7.632</td>\n",
       "      <td>1.305</td>\n",
       "      <td>1.592000</td>\n",
       "      <td>0.874</td>\n",
       "      <td>0.681</td>\n",
       "      <td>0.20200</td>\n",
       "      <td>0.393</td>\n",
       "      <td>2018</td>\n",
       "    </tr>\n",
       "    <tr>\n",
       "      <th>1</th>\n",
       "      <td>2</td>\n",
       "      <td>Norway</td>\n",
       "      <td>7.594</td>\n",
       "      <td>1.456</td>\n",
       "      <td>1.582000</td>\n",
       "      <td>0.861</td>\n",
       "      <td>0.686</td>\n",
       "      <td>0.28600</td>\n",
       "      <td>0.340</td>\n",
       "      <td>2018</td>\n",
       "    </tr>\n",
       "    <tr>\n",
       "      <th>2</th>\n",
       "      <td>3</td>\n",
       "      <td>Denmark</td>\n",
       "      <td>7.555</td>\n",
       "      <td>1.351</td>\n",
       "      <td>1.590000</td>\n",
       "      <td>0.868</td>\n",
       "      <td>0.683</td>\n",
       "      <td>0.28400</td>\n",
       "      <td>0.408</td>\n",
       "      <td>2018</td>\n",
       "    </tr>\n",
       "    <tr>\n",
       "      <th>3</th>\n",
       "      <td>4</td>\n",
       "      <td>Iceland</td>\n",
       "      <td>7.495</td>\n",
       "      <td>1.343</td>\n",
       "      <td>1.205915</td>\n",
       "      <td>0.914</td>\n",
       "      <td>0.677</td>\n",
       "      <td>0.18136</td>\n",
       "      <td>0.138</td>\n",
       "      <td>2018</td>\n",
       "    </tr>\n",
       "    <tr>\n",
       "      <th>4</th>\n",
       "      <td>5</td>\n",
       "      <td>Switzerland</td>\n",
       "      <td>7.487</td>\n",
       "      <td>1.420</td>\n",
       "      <td>1.549000</td>\n",
       "      <td>0.927</td>\n",
       "      <td>0.660</td>\n",
       "      <td>0.25600</td>\n",
       "      <td>0.357</td>\n",
       "      <td>2018</td>\n",
       "    </tr>\n",
       "    <tr>\n",
       "      <th>...</th>\n",
       "      <td>...</td>\n",
       "      <td>...</td>\n",
       "      <td>...</td>\n",
       "      <td>...</td>\n",
       "      <td>...</td>\n",
       "      <td>...</td>\n",
       "      <td>...</td>\n",
       "      <td>...</td>\n",
       "      <td>...</td>\n",
       "      <td>...</td>\n",
       "    </tr>\n",
       "    <tr>\n",
       "      <th>151</th>\n",
       "      <td>152</td>\n",
       "      <td>Rwanda</td>\n",
       "      <td>3.334</td>\n",
       "      <td>0.359</td>\n",
       "      <td>0.711000</td>\n",
       "      <td>0.614</td>\n",
       "      <td>0.555</td>\n",
       "      <td>0.21700</td>\n",
       "      <td>0.411</td>\n",
       "      <td>2019</td>\n",
       "    </tr>\n",
       "    <tr>\n",
       "      <th>152</th>\n",
       "      <td>153</td>\n",
       "      <td>Tanzania</td>\n",
       "      <td>3.231</td>\n",
       "      <td>0.476</td>\n",
       "      <td>0.885000</td>\n",
       "      <td>0.499</td>\n",
       "      <td>0.417</td>\n",
       "      <td>0.27600</td>\n",
       "      <td>0.147</td>\n",
       "      <td>2019</td>\n",
       "    </tr>\n",
       "    <tr>\n",
       "      <th>153</th>\n",
       "      <td>154</td>\n",
       "      <td>Afghanistan</td>\n",
       "      <td>3.203</td>\n",
       "      <td>0.350</td>\n",
       "      <td>0.517000</td>\n",
       "      <td>0.361</td>\n",
       "      <td>0.000</td>\n",
       "      <td>0.15800</td>\n",
       "      <td>0.025</td>\n",
       "      <td>2019</td>\n",
       "    </tr>\n",
       "    <tr>\n",
       "      <th>154</th>\n",
       "      <td>155</td>\n",
       "      <td>Central African Republic</td>\n",
       "      <td>3.083</td>\n",
       "      <td>0.026</td>\n",
       "      <td>0.000000</td>\n",
       "      <td>0.105</td>\n",
       "      <td>0.225</td>\n",
       "      <td>0.23500</td>\n",
       "      <td>0.035</td>\n",
       "      <td>2019</td>\n",
       "    </tr>\n",
       "    <tr>\n",
       "      <th>155</th>\n",
       "      <td>156</td>\n",
       "      <td>South Sudan</td>\n",
       "      <td>2.853</td>\n",
       "      <td>0.306</td>\n",
       "      <td>0.575000</td>\n",
       "      <td>0.295</td>\n",
       "      <td>0.010</td>\n",
       "      <td>0.20200</td>\n",
       "      <td>0.091</td>\n",
       "      <td>2019</td>\n",
       "    </tr>\n",
       "  </tbody>\n",
       "</table>\n",
       "<p>312 rows × 10 columns</p>\n",
       "</div>"
      ],
      "text/plain": [
       "     Overall rank         Country or region  Score  GDP per capita  \\\n",
       "0               1                   Finland  7.632           1.305   \n",
       "1               2                    Norway  7.594           1.456   \n",
       "2               3                   Denmark  7.555           1.351   \n",
       "3               4                   Iceland  7.495           1.343   \n",
       "4               5               Switzerland  7.487           1.420   \n",
       "..            ...                       ...    ...             ...   \n",
       "151           152                    Rwanda  3.334           0.359   \n",
       "152           153                  Tanzania  3.231           0.476   \n",
       "153           154               Afghanistan  3.203           0.350   \n",
       "154           155  Central African Republic  3.083           0.026   \n",
       "155           156               South Sudan  2.853           0.306   \n",
       "\n",
       "     Social support  Healthy life expectancy  Freedom to make life choices  \\\n",
       "0          1.592000                    0.874                         0.681   \n",
       "1          1.582000                    0.861                         0.686   \n",
       "2          1.590000                    0.868                         0.683   \n",
       "3          1.205915                    0.914                         0.677   \n",
       "4          1.549000                    0.927                         0.660   \n",
       "..              ...                      ...                           ...   \n",
       "151        0.711000                    0.614                         0.555   \n",
       "152        0.885000                    0.499                         0.417   \n",
       "153        0.517000                    0.361                         0.000   \n",
       "154        0.000000                    0.105                         0.225   \n",
       "155        0.575000                    0.295                         0.010   \n",
       "\n",
       "     Generosity  Perceptions of corruption  year  \n",
       "0       0.20200                      0.393  2018  \n",
       "1       0.28600                      0.340  2018  \n",
       "2       0.28400                      0.408  2018  \n",
       "3       0.18136                      0.138  2018  \n",
       "4       0.25600                      0.357  2018  \n",
       "..          ...                        ...   ...  \n",
       "151     0.21700                      0.411  2019  \n",
       "152     0.27600                      0.147  2019  \n",
       "153     0.15800                      0.025  2019  \n",
       "154     0.23500                      0.035  2019  \n",
       "155     0.20200                      0.091  2019  \n",
       "\n",
       "[312 rows x 10 columns]"
      ]
     },
     "execution_count": 133,
     "metadata": {},
     "output_type": "execute_result"
    }
   ],
   "source": [
    "wh"
   ]
  },
  {
   "cell_type": "markdown",
   "id": "8259629a-e170-4783-8935-b20bbb261d10",
   "metadata": {},
   "source": [
    "4. Partiendo de Wh limpio, para cada metrica por pais, muestra la diferencia del ultimo valor encontrado contra el primero. "
   ]
  },
  {
   "cell_type": "markdown",
   "id": "baee1d13-6755-443f-8961-d53b44a9dca8",
   "metadata": {},
   "source": [
    "Ejemplo:"
   ]
  },
  {
   "cell_type": "code",
   "execution_count": 134,
   "id": "9c197bcd-8603-426c-a4ce-4ddab6e50d49",
   "metadata": {},
   "outputs": [
    {
     "data": {
      "text/html": [
       "<div>\n",
       "<style scoped>\n",
       "    .dataframe tbody tr th:only-of-type {\n",
       "        vertical-align: middle;\n",
       "    }\n",
       "\n",
       "    .dataframe tbody tr th {\n",
       "        vertical-align: top;\n",
       "    }\n",
       "\n",
       "    .dataframe thead th {\n",
       "        text-align: right;\n",
       "    }\n",
       "</style>\n",
       "<table border=\"1\" class=\"dataframe\">\n",
       "  <thead>\n",
       "    <tr style=\"text-align: right;\">\n",
       "      <th></th>\n",
       "      <th>Overall rank</th>\n",
       "      <th>Country or region</th>\n",
       "      <th>Score</th>\n",
       "      <th>GDP per capita</th>\n",
       "      <th>Social support</th>\n",
       "      <th>Healthy life expectancy</th>\n",
       "      <th>Freedom to make life choices</th>\n",
       "      <th>Generosity</th>\n",
       "      <th>Perceptions of corruption</th>\n",
       "      <th>year</th>\n",
       "    </tr>\n",
       "  </thead>\n",
       "  <tbody>\n",
       "    <tr>\n",
       "      <th>4</th>\n",
       "      <td>5</td>\n",
       "      <td>Switzerland</td>\n",
       "      <td>7.487</td>\n",
       "      <td>1.420</td>\n",
       "      <td>1.549</td>\n",
       "      <td>0.927</td>\n",
       "      <td>0.660</td>\n",
       "      <td>0.256</td>\n",
       "      <td>0.357</td>\n",
       "      <td>2018</td>\n",
       "    </tr>\n",
       "    <tr>\n",
       "      <th>5</th>\n",
       "      <td>6</td>\n",
       "      <td>Switzerland</td>\n",
       "      <td>7.480</td>\n",
       "      <td>1.452</td>\n",
       "      <td>1.526</td>\n",
       "      <td>1.052</td>\n",
       "      <td>0.572</td>\n",
       "      <td>0.263</td>\n",
       "      <td>0.343</td>\n",
       "      <td>2019</td>\n",
       "    </tr>\n",
       "  </tbody>\n",
       "</table>\n",
       "</div>"
      ],
      "text/plain": [
       "   Overall rank Country or region  Score  GDP per capita  Social support  \\\n",
       "4             5       Switzerland  7.487           1.420           1.549   \n",
       "5             6       Switzerland  7.480           1.452           1.526   \n",
       "\n",
       "   Healthy life expectancy  Freedom to make life choices  Generosity  \\\n",
       "4                    0.927                         0.660       0.256   \n",
       "5                    1.052                         0.572       0.263   \n",
       "\n",
       "   Perceptions of corruption  year  \n",
       "4                      0.357  2018  \n",
       "5                      0.343  2019  "
      ]
     },
     "execution_count": 134,
     "metadata": {},
     "output_type": "execute_result"
    }
   ],
   "source": [
    "wh.loc[ wh['Country or region'] == 'Switzerland' , : ]"
   ]
  },
  {
   "cell_type": "markdown",
   "id": "8a322dc9-ee13-403f-b6b0-e0be59e19cad",
   "metadata": {},
   "source": [
    "Como se puede observar para Switzerland en Score la diferencia seria 7.480 - 7.487\n",
    "\n",
    "Claramente en su solucion la columna año se debera de eliminar\n",
    "\n",
    "### resolucion ejercicio cuatro"
   ]
  },
  {
   "cell_type": "code",
   "execution_count": 135,
   "id": "51892ff8-4f76-4d08-aaec-ad8960ebb1d2",
   "metadata": {},
   "outputs": [],
   "source": [
    "paises = wh['Country or region'].unique().tolist()"
   ]
  },
  {
   "cell_type": "code",
   "execution_count": 136,
   "id": "152b4597",
   "metadata": {},
   "outputs": [],
   "source": [
    "diferenciaencontrada = pd.DataFrame(index = wh['Country or region'])"
   ]
  },
  {
   "cell_type": "code",
   "execution_count": 137,
   "id": "c9b27bb0",
   "metadata": {},
   "outputs": [],
   "source": [
    "for i in diferenciaencontrada.index:\n",
    "    pass\n",
    "    #diferenciaencontrada =  wh.loc[wh['Country or region'] == 'Switzerland' , : ]"
   ]
  }
 ],
 "metadata": {
  "kernelspec": {
   "display_name": "Python 3",
   "language": "python",
   "name": "python3"
  },
  "language_info": {
   "codemirror_mode": {
    "name": "ipython",
    "version": 3
   },
   "file_extension": ".py",
   "mimetype": "text/x-python",
   "name": "python",
   "nbconvert_exporter": "python",
   "pygments_lexer": "ipython3",
   "version": "3.8.8"
  }
 },
 "nbformat": 4,
 "nbformat_minor": 5
}
